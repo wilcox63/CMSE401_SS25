{
 "cells": [
  {
   "cell_type": "markdown",
   "id": "86404ced-0666-43f5-b633-28d1169e0c11",
   "metadata": {},
   "source": [
    "# Wave Equation Implementation:"
   ]
  },
  {
   "cell_type": "code",
   "execution_count": 1,
   "id": "2bb87436-9258-4e37-847b-04207d842ecd",
   "metadata": {},
   "outputs": [],
   "source": [
    "import numpy as np\n",
    "import matplotlib.pyplot as plt\n",
    "import matplotlib.animation as animation\n",
    "import time"
   ]
  },
  {
   "cell_type": "code",
<<<<<<< HEAD:wilcox63_HW1.ipynb
   "execution_count": 2,
   "id": "ccd9c550-1129-4146-b120-51bc8c233508",
   "metadata": {},
   "outputs": [],
   "source": [
    "dx=0.1 #space increment\n",
    "dt=0.05 #time increment\n",
    "tmin=0.0 #initial time\n",
    "tmax=2.0 #end time\n",
    "xmin=-5.0 #left bound\n",
    "xmax=5.0 #right bound\n",
    "c=1.0 #speed of sound\n",
    "rsq=(c*dt/dx)**2\n",
    "\n",
    "nx = int((xmax-xmin)/dx) + 1 #number of points on x grid\n",
    "nt = int((tmax-tmin)/dt) + 2 #number of points on t grid\n",
    "u = np.zeros((nt,nx)) #solution to wave equation\n",
    "\n",
    "#set initial pulse shape\n",
    "def init_fn(x):\n",
    "    val = np.exp(-(x**2)/0.25)\n",
    "    if val<.001:\n",
    "        return 0.0\n",
    "    else:\n",
    "        return val\n",
    "def wave_equation(nx, u, xmin, dx, nt, rsq):\n",
    "    for a in range(0,nx):\n",
    "        u[0,a]=init_fn(xmin+a*dx)\n",
    "        u[1,a]=u[0,a]\n",
    "\n",
    "\n",
    "    for t in range(1,nt-1):\n",
    "        for a in range(1,nx-1):\n",
    "            u[t+1,a] = 2*(1-rsq)*u[t,a]-u[t-1,a]+rsq*(u[t,a-1]+u[t,a+1])\n",
    "\n",
    "    #visualization of the wave equation\n",
    "    fig = plt.figure()\n",
    "    plts = []\n",
    "    for i in range(nt):\n",
    "        p, = plt.plot(u[i,:], 'k')\n",
    "        plts.append( [p] )\n",
    "    ani = animation.ArtistAnimation(fig, plts, interval=50, repeat_delay=3000)\n",
    "    ani.save(\"wave.gif\") \n",
    "\n",
    "    plt.show()\n",
    "    return"
   ]
  },
  {
   "cell_type": "markdown",
   "id": "3f0aa410-d591-4ba6-8b51-d41e22acf5e5",
   "metadata": {},
   "source": [
    "Wave function implementation derived from this [stack exchange article](https://stackoverflow.com/questions/26393545/python-graphing-the-1d-wave-equation-beginner)."
   ]
  },
  {
   "cell_type": "markdown",
   "id": "98f57874-1d00-4e30-b6c1-5c9c67bd83e4",
   "metadata": {},
   "source": [
    "# Time Study:"
   ]
  },
  {
   "cell_type": "code",
   "execution_count": 12,
   "id": "e542efba-09c4-424a-91b2-14bfc287b627",
   "metadata": {},
=======
   "execution_count": 30,
   "id": "ccd9c550-1129-4146-b120-51bc8c233508",
   "metadata": {},
>>>>>>> d91051712580532989b9e071aa34852f035b8f2f:wilcox63_HW1/wilcox63_HW1.ipynb
   "outputs": [
    {
     "name": "stderr",
     "output_type": "stream",
     "text": [
      "MovieWriter ffmpeg unavailable; using Pillow instead.\n"
     ]
    },
    {
     "data": {
      "image/png": "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",
      "text/plain": [
       "<Figure size 640x480 with 1 Axes>"
      ]
     },
     "metadata": {},
     "output_type": "display_data"
<<<<<<< HEAD:wilcox63_HW1.ipynb
    },
    {
     "name": "stdout",
     "output_type": "stream",
     "text": [
      "The function took 2.304622706025839 seconds to run.\n"
     ]
=======
>>>>>>> d91051712580532989b9e071aa34852f035b8f2f:wilcox63_HW1/wilcox63_HW1.ipynb
    }
   ],
   "source": [
    "dx=0.1 #space increment\n",
    "dt=0.05 #time increment\n",
    "tmin=0.0 #initial time\n",
    "tmax=2.0 #simulate until\n",
    "xmin=-5.0 #left bound\n",
    "xmax=5.0 #right bound...assume packet never reaches boundary\n",
    "c=1.0 #speed of sound\n",
    "rsq=(c*dt/dx)**2 #appears in finite diff sol\n",
    "\n",
    "nx = int((xmax-xmin)/dx) + 1 #number of points on x grid\n",
    "nt = int((tmax-tmin)/dt) + 2 #number of points on t grid\n",
    "u = np.zeros((nt,nx)) #solution to WE\n",
    "\n",
    "#set initial pulse shape\n",
    "def init_fn(x):\n",
    "    val = np.exp(-(x**2)/0.25)\n",
    "    if val<.001:\n",
    "        return 0.0\n",
    "    else:\n",
    "        return val\n",
    "\n",
    "for a in range(0,nx):\n",
    "    u[0,a]=init_fn(xmin+a*dx)\n",
    "    u[1,a]=u[0,a]\n",
    "\n",
    "#simulate dynamics\n",
    "for t in range(1,nt-1):\n",
    "    for a in range(1,nx-1):\n",
    "        u[t+1,a] = 2*(1-rsq)*u[t,a]-u[t-1,a]+rsq*(u[t,a-1]+u[t,a+1])\n",
    "\n",
    "fig = plt.figure()\n",
    "plts = []             # get ready to populate this list the Line artists to be plotted\n",
    "for i in range(nt):\n",
    "    p, = plt.plot(u[i,:], 'k')   # this is how you'd plot a single line...\n",
    "    plts.append( [p] )           # ... but save the line artist for the animation\n",
    "ani = animation.ArtistAnimation(fig, plts, interval=50, repeat_delay=3000)   # run the animation\n",
    "ani.save(\"wave.gif\")  # optionally save it to a file\n",
    "\n",
    "plt.show()"
   ]
  },
  {
   "cell_type": "code",
   "execution_count": null,
   "id": "83db4678-3a72-4edc-b3e7-772c23a5e3f9",
   "metadata": {},
   "outputs": [],
   "source": []
  }
 ],
 "metadata": {
  "kernelspec": {
   "display_name": "Python 3 (ipykernel)",
   "language": "python",
   "name": "python3"
  },
  "language_info": {
   "codemirror_mode": {
    "name": "ipython",
    "version": 3
   },
   "file_extension": ".py",
   "mimetype": "text/x-python",
   "name": "python",
   "nbconvert_exporter": "python",
   "pygments_lexer": "ipython3",
   "version": "3.11.3"
  }
 },
 "nbformat": 4,
 "nbformat_minor": 5
}
